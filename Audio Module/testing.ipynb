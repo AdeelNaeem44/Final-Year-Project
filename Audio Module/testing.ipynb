{
 "cells": [
  {
   "cell_type": "code",
   "execution_count": 6,
   "id": "c3f0555c",
   "metadata": {},
   "outputs": [
    {
     "name": "stdout",
     "output_type": "stream",
     "text": [
      "1/1 [==============================] - 1s 1s/step\n",
      "Predicted Emotion: happy\n",
      "1/1 [==============================] - 1s 1s/step\n",
      "Predicted Emotion: happy\n"
     ]
    }
   ],
   "source": [
    "import librosa\n",
    "import numpy as np\n",
    "from tensorflow.keras.models import load_model\n",
    "from sklearn.preprocessing import LabelEncoder\n",
    "import pandas as pd\n",
    "import pickle\n",
    "\n",
    "# Load your saved model\n",
    "model = load_model(\"speech_emotion_cnn_bilstm.h5\")\n",
    "\n",
    "# Load the scaler and label encoder saved during training\n",
    "with open(\"label_encoder.pkl\", \"rb\") as f:\n",
    "    encoder = pickle.load(f)\n",
    "with open(\"scaler.pkl\", \"rb\") as f:\n",
    "    scaler = pickle.load(f)\n",
    "\n",
    "def preprocess_audio(file_path, n_mfcc=13, max_len=130):\n",
    "    signal, sr = librosa.load(file_path, sr=16000)\n",
    "    mfcc = librosa.feature.mfcc(y=signal, sr=sr, n_mfcc=n_mfcc)\n",
    "    mfcc = mfcc.T\n",
    "    if mfcc.shape[0] < max_len:\n",
    "        pad_width = max_len - mfcc.shape[0]\n",
    "        mfcc = np.pad(mfcc, pad_width=((0, pad_width), (0,0)), mode='constant')\n",
    "    else:\n",
    "        mfcc = mfcc[:max_len, :]\n",
    "    # Flatten to 1D for scaler, then reshape back\n",
    "    mfcc_flat = mfcc.flatten().reshape(1, -1)\n",
    "    mfcc_scaled = scaler.transform(mfcc_flat)\n",
    "    mfcc_scaled = mfcc_scaled.reshape(1, max_len, n_mfcc)\n",
    "    return mfcc_scaled\n",
    "\n",
    "# Example: test on your wav file\n",
    "file_path = \"yt_audio.wav\"  # change to your test wav file path\n",
    "input_data = preprocess_audio(file_path)\n",
    "\n",
    "prediction = model.predict(input_data)\n",
    "predicted_index = np.argmax(prediction)\n",
    "predicted_emotion = encoder.inverse_transform([predicted_index])[0]\n",
    "\n",
    "print(f\"Predicted Emotion: {predicted_emotion}\")"
   ]
  }
 ],
 "metadata": {
  "kernelspec": {
   "display_name": "tf",
   "language": "python",
   "name": "python3"
  },
  "language_info": {
   "codemirror_mode": {
    "name": "ipython",
    "version": 3
   },
   "file_extension": ".py",
   "mimetype": "text/x-python",
   "name": "python",
   "nbconvert_exporter": "python",
   "pygments_lexer": "ipython3",
   "version": "3.10.13"
  }
 },
 "nbformat": 4,
 "nbformat_minor": 5
}
